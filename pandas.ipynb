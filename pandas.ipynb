{
 "cells": [
  {
   "cell_type": "markdown",
   "id": "aa46724e-15b5-4871-b389-95952de42f8d",
   "metadata": {},
   "source": [
    "## Understanding pandas library "
   ]
  },
  {
   "cell_type": "markdown",
   "id": "a136da3f",
   "metadata": {},
   "source": [
    "### importing the library  "
   ]
  },
  {
   "cell_type": "code",
   "execution_count": null,
   "id": "6fe5f1fe",
   "metadata": {},
   "outputs": [],
   "source": [
    "import pandas as pd "
   ]
  },
  {
   "cell_type": "markdown",
   "id": "6c5fc9ae",
   "metadata": {},
   "source": [
    "writiing and saving files :"
   ]
  },
  {
   "cell_type": "code",
   "execution_count": null,
   "id": "0ac204db",
   "metadata": {},
   "outputs": [],
   "source": [
    "import pandas as pd \n",
    "data ={ 'Name':['Ram','Shayam','Om'],\n",
    "        'Age': [10,20,30],\n",
    "        'City':['Indore','Chennai','Pune']}\n",
    "\n",
    "df=pd.DataFrame(data)\n",
    "\n",
    "df.to_csv(\"Information.csv\",index=False)\n",
    "\n",
    "#Similarly for to_excel(name.xlsx)and to_json(name.json)\n"
   ]
  },
  {
   "cell_type": "markdown",
   "id": "9a20c014",
   "metadata": {},
   "source": [
    "### importing a file ."
   ]
  },
  {
   "cell_type": "code",
   "execution_count": null,
   "id": "46057851",
   "metadata": {},
   "outputs": [
    {
     "name": "stdout",
     "output_type": "stream",
     "text": [
      "     Name  Age     City\n",
      "0     Ram   10   Indore\n",
      "1  Shayam   20  Chennai\n",
      "2      Om   30     Pune\n"
     ]
    }
   ],
   "source": [
    "import pandas as pd \n",
    "df=pd.read_csv(\"Information.csv\")\n",
    "print(df)\n",
    "\n",
    "# for excel file use : pd.read_excel(\"Name.xlsx\")\n",
    "# for json file use ; pd.read_json(\"Name.json\")\n",
    "\n"
   ]
  },
  {
   "cell_type": "markdown",
   "id": "f036afca",
   "metadata": {},
   "source": [
    "### reading rows from top"
   ]
  },
  {
   "cell_type": "code",
   "execution_count": 11,
   "id": "93ca1338",
   "metadata": {},
   "outputs": [
    {
     "data": {
      "text/html": [
       "<div>\n",
       "<style scoped>\n",
       "    .dataframe tbody tr th:only-of-type {\n",
       "        vertical-align: middle;\n",
       "    }\n",
       "\n",
       "    .dataframe tbody tr th {\n",
       "        vertical-align: top;\n",
       "    }\n",
       "\n",
       "    .dataframe thead th {\n",
       "        text-align: right;\n",
       "    }\n",
       "</style>\n",
       "<table border=\"1\" class=\"dataframe\">\n",
       "  <thead>\n",
       "    <tr style=\"text-align: right;\">\n",
       "      <th></th>\n",
       "      <th>Name</th>\n",
       "      <th>Age</th>\n",
       "      <th>City</th>\n",
       "    </tr>\n",
       "  </thead>\n",
       "  <tbody>\n",
       "    <tr>\n",
       "      <th>0</th>\n",
       "      <td>Ram</td>\n",
       "      <td>10</td>\n",
       "      <td>Indore</td>\n",
       "    </tr>\n",
       "    <tr>\n",
       "      <th>1</th>\n",
       "      <td>Shayam</td>\n",
       "      <td>20</td>\n",
       "      <td>Chennai</td>\n",
       "    </tr>\n",
       "  </tbody>\n",
       "</table>\n",
       "</div>"
      ],
      "text/plain": [
       "     Name  Age     City\n",
       "0     Ram   10   Indore\n",
       "1  Shayam   20  Chennai"
      ]
     },
     "execution_count": 11,
     "metadata": {},
     "output_type": "execute_result"
    }
   ],
   "source": [
    "df.head(2)"
   ]
  },
  {
   "cell_type": "markdown",
   "id": "71ec6a3c",
   "metadata": {},
   "source": [
    "### Reading rows from bottom"
   ]
  },
  {
   "cell_type": "code",
   "execution_count": 13,
   "id": "2754c185",
   "metadata": {},
   "outputs": [
    {
     "data": {
      "text/html": [
       "<div>\n",
       "<style scoped>\n",
       "    .dataframe tbody tr th:only-of-type {\n",
       "        vertical-align: middle;\n",
       "    }\n",
       "\n",
       "    .dataframe tbody tr th {\n",
       "        vertical-align: top;\n",
       "    }\n",
       "\n",
       "    .dataframe thead th {\n",
       "        text-align: right;\n",
       "    }\n",
       "</style>\n",
       "<table border=\"1\" class=\"dataframe\">\n",
       "  <thead>\n",
       "    <tr style=\"text-align: right;\">\n",
       "      <th></th>\n",
       "      <th>Name</th>\n",
       "      <th>Age</th>\n",
       "      <th>City</th>\n",
       "    </tr>\n",
       "  </thead>\n",
       "  <tbody>\n",
       "    <tr>\n",
       "      <th>1</th>\n",
       "      <td>Shayam</td>\n",
       "      <td>20</td>\n",
       "      <td>Chennai</td>\n",
       "    </tr>\n",
       "    <tr>\n",
       "      <th>2</th>\n",
       "      <td>Om</td>\n",
       "      <td>30</td>\n",
       "      <td>Pune</td>\n",
       "    </tr>\n",
       "  </tbody>\n",
       "</table>\n",
       "</div>"
      ],
      "text/plain": [
       "     Name  Age     City\n",
       "1  Shayam   20  Chennai\n",
       "2      Om   30     Pune"
      ]
     },
     "execution_count": 13,
     "metadata": {},
     "output_type": "execute_result"
    }
   ],
   "source": [
    "df.tail(2)"
   ]
  },
  {
   "cell_type": "markdown",
   "id": "efad59f5",
   "metadata": {},
   "source": [
    "### Understanding Data "
   ]
  },
  {
   "cell_type": "code",
   "execution_count": 14,
   "id": "632f75d6",
   "metadata": {},
   "outputs": [
    {
     "name": "stdout",
     "output_type": "stream",
     "text": [
      "<class 'pandas.core.frame.DataFrame'>\n",
      "RangeIndex: 3 entries, 0 to 2\n",
      "Data columns (total 3 columns):\n",
      " #   Column  Non-Null Count  Dtype \n",
      "---  ------  --------------  ----- \n",
      " 0   Name    3 non-null      object\n",
      " 1   Age     3 non-null      int64 \n",
      " 2   City    3 non-null      object\n",
      "dtypes: int64(1), object(2)\n",
      "memory usage: 204.0+ bytes\n"
     ]
    }
   ],
   "source": [
    "df.info()"
   ]
  },
  {
   "cell_type": "markdown",
   "id": "c7634605",
   "metadata": {},
   "source": [
    "### Describe Data "
   ]
  },
  {
   "cell_type": "code",
   "execution_count": 15,
   "id": "4c1d4966",
   "metadata": {},
   "outputs": [
    {
     "data": {
      "text/html": [
       "<div>\n",
       "<style scoped>\n",
       "    .dataframe tbody tr th:only-of-type {\n",
       "        vertical-align: middle;\n",
       "    }\n",
       "\n",
       "    .dataframe tbody tr th {\n",
       "        vertical-align: top;\n",
       "    }\n",
       "\n",
       "    .dataframe thead th {\n",
       "        text-align: right;\n",
       "    }\n",
       "</style>\n",
       "<table border=\"1\" class=\"dataframe\">\n",
       "  <thead>\n",
       "    <tr style=\"text-align: right;\">\n",
       "      <th></th>\n",
       "      <th>Age</th>\n",
       "    </tr>\n",
       "  </thead>\n",
       "  <tbody>\n",
       "    <tr>\n",
       "      <th>count</th>\n",
       "      <td>3.0</td>\n",
       "    </tr>\n",
       "    <tr>\n",
       "      <th>mean</th>\n",
       "      <td>20.0</td>\n",
       "    </tr>\n",
       "    <tr>\n",
       "      <th>std</th>\n",
       "      <td>10.0</td>\n",
       "    </tr>\n",
       "    <tr>\n",
       "      <th>min</th>\n",
       "      <td>10.0</td>\n",
       "    </tr>\n",
       "    <tr>\n",
       "      <th>25%</th>\n",
       "      <td>15.0</td>\n",
       "    </tr>\n",
       "    <tr>\n",
       "      <th>50%</th>\n",
       "      <td>20.0</td>\n",
       "    </tr>\n",
       "    <tr>\n",
       "      <th>75%</th>\n",
       "      <td>25.0</td>\n",
       "    </tr>\n",
       "    <tr>\n",
       "      <th>max</th>\n",
       "      <td>30.0</td>\n",
       "    </tr>\n",
       "  </tbody>\n",
       "</table>\n",
       "</div>"
      ],
      "text/plain": [
       "        Age\n",
       "count   3.0\n",
       "mean   20.0\n",
       "std    10.0\n",
       "min    10.0\n",
       "25%    15.0\n",
       "50%    20.0\n",
       "75%    25.0\n",
       "max    30.0"
      ]
     },
     "execution_count": 15,
     "metadata": {},
     "output_type": "execute_result"
    }
   ],
   "source": [
    "df.describe()"
   ]
  },
  {
   "cell_type": "markdown",
   "id": "c9aced55",
   "metadata": {},
   "source": [
    "### know the shape and size of your dataset "
   ]
  },
  {
   "cell_type": "code",
   "execution_count": 18,
   "id": "42277085",
   "metadata": {},
   "outputs": [
    {
     "name": "stdout",
     "output_type": "stream",
     "text": [
      "SHAPE:(8, 4)\n",
      "columns:Index(['Name', 'AGE', 'Salary', 'Performance'], dtype='object')\n"
     ]
    }
   ],
   "source": [
    "import pandas as pd \n",
    "data ={ \"Name\":[\"Ram\",'Sayam','Birju','Honey','Duggu','Shruti','Kamlesh','Suresh'],\n",
    "       \"AGE\":[10,20,22,28,30,45,65,35],\n",
    "       \"Salary\":[25000,45000,20000,10000,60000,70000,50000,15000],\n",
    "       \"Performance\":[0,1,0,0,1,0,1,1]}\n",
    "\n",
    "df=pd.DataFrame(data)\n",
    "\n",
    "print(f\"SHAPE:{df.shape}\")\n",
    "print(f\"columns:{df.columns}\")\n"
   ]
  },
  {
   "cell_type": "markdown",
   "id": "387dd03c",
   "metadata": {},
   "source": [
    "### Selecting a particular column"
   ]
  },
  {
   "cell_type": "code",
   "execution_count": 19,
   "id": "7ca07d3e",
   "metadata": {},
   "outputs": [
    {
     "name": "stdout",
     "output_type": "stream",
     "text": [
      "0    10\n",
      "1    20\n",
      "2    22\n",
      "3    28\n",
      "4    30\n",
      "5    45\n",
      "6    65\n",
      "7    35\n",
      "Name: AGE, dtype: int64\n"
     ]
    }
   ],
   "source": [
    "print(df[\"AGE\"])"
   ]
  },
  {
   "cell_type": "markdown",
   "id": "b8d13493",
   "metadata": {},
   "source": [
    "### Multiple Column "
   ]
  },
  {
   "cell_type": "code",
   "execution_count": 31,
   "id": "250d1ee2",
   "metadata": {},
   "outputs": [
    {
     "name": "stdout",
     "output_type": "stream",
     "text": [
      "0        Ram\n",
      "1      Sayam\n",
      "2      Birju\n",
      "3      Honey\n",
      "4      Duggu\n",
      "5     Shruti\n",
      "6    Kamlesh\n",
      "7     Suresh\n",
      "Name: Name, dtype: object\n"
     ]
    }
   ],
   "source": [
    "print(df[\"Name\"])"
   ]
  },
  {
   "cell_type": "markdown",
   "id": "a69dcdd2",
   "metadata": {},
   "source": [
    "### Conditional Formating "
   ]
  },
  {
   "cell_type": "markdown",
   "id": "2db17eea",
   "metadata": {},
   "source": [
    "##### Print the data for salary > 20000 (SINGLE FORMATING!)"
   ]
  },
  {
   "cell_type": "markdown",
   "id": "0e58cd1f",
   "metadata": {},
   "source": []
  },
  {
   "cell_type": "code",
   "execution_count": 35,
   "id": "594887c1",
   "metadata": {},
   "outputs": [
    {
     "name": "stdout",
     "output_type": "stream",
     "text": [
      "      Name  AGE  Salary  Performance\n",
      "0      Ram   10   25000            0\n",
      "1    Sayam   20   45000            1\n",
      "4    Duggu   30   60000            1\n",
      "5   Shruti   45   70000            0\n",
      "6  Kamlesh   65   50000            1\n"
     ]
    }
   ],
   "source": [
    "import pandas as pd \n",
    "data ={ \"Name\":[\"Ram\",'Sayam','Birju','Honey','Duggu','Shruti','Kamlesh','Suresh'],\n",
    "       \"AGE\":[10,20,22,28,30,45,65,35],\n",
    "       \"Salary\":[25000,45000,20000,10000,60000,70000,50000,15000],\n",
    "       \"Performance\":[0,1,0,0,1,0,1,1]}\n",
    "\n",
    "df=pd.DataFrame(data)\n",
    "\n",
    "# SINGLE CONDITIONAL ; Salary above 20000\n",
    "hg_sal= df[df[\"Salary\"]>20000]\n",
    "print(hg_sal)"
   ]
  },
  {
   "cell_type": "code",
   "execution_count": 40,
   "id": "25219797",
   "metadata": {},
   "outputs": [
    {
     "name": "stdout",
     "output_type": "stream",
     "text": [
      "      Name  AGE  Salary  Performance\n",
      "5   Shruti   45   70000            0\n",
      "6  Kamlesh   65   50000            1\n"
     ]
    }
   ],
   "source": [
    "# MULTIPLE CONDITIONAL : Age>30 and salary>20k\n",
    "c_sal= df[(df[\"AGE\"]>30) & (df[\"Salary\"]>20000)]\n",
    "print(c_sal)"
   ]
  },
  {
   "cell_type": "markdown",
   "id": "81500c22",
   "metadata": {},
   "source": [
    "### Adding columns."
   ]
  },
  {
   "cell_type": "code",
   "execution_count": null,
   "id": "6c88ffdb",
   "metadata": {},
   "outputs": [],
   "source": [
    "# new column created with salary increment of 10% \n",
    "df[\"Bonus\"]=df[\"Salary\"]*0.1"
   ]
  },
  {
   "cell_type": "code",
   "execution_count": 42,
   "id": "934d96cd",
   "metadata": {},
   "outputs": [
    {
     "name": "stdout",
     "output_type": "stream",
     "text": [
      "   Employid     Name  AGE  Salary  Performance   Bonus\n",
      "0     101.0      Ram   10   25000            0  2500.0\n",
      "1     102.0    Sayam   20   45000            1  4500.0\n",
      "2     103.0    Birju   22   20000            0  2000.0\n",
      "3     104.0    Honey   28   10000            0  1000.0\n",
      "4       NaN    Duggu   30   60000            1  6000.0\n",
      "5     106.0   Shruti   45   70000            0  7000.0\n",
      "6     107.0  Kamlesh   65   50000            1  5000.0\n",
      "7     108.0   Suresh   35   15000            1  1500.0\n"
     ]
    }
   ],
   "source": [
    "# AT specific location \n",
    "df.insert(0,\"Employid\",[101,102,103,104,None,106,107,108])\n",
    "print(df)"
   ]
  },
  {
   "cell_type": "markdown",
   "id": "27d5088d",
   "metadata": {},
   "source": [
    "### Updating the value in field"
   ]
  },
  {
   "cell_type": "code",
   "execution_count": 45,
   "id": "c9b82cf2",
   "metadata": {},
   "outputs": [
    {
     "data": {
      "text/html": [
       "<div>\n",
       "<style scoped>\n",
       "    .dataframe tbody tr th:only-of-type {\n",
       "        vertical-align: middle;\n",
       "    }\n",
       "\n",
       "    .dataframe tbody tr th {\n",
       "        vertical-align: top;\n",
       "    }\n",
       "\n",
       "    .dataframe thead th {\n",
       "        text-align: right;\n",
       "    }\n",
       "</style>\n",
       "<table border=\"1\" class=\"dataframe\">\n",
       "  <thead>\n",
       "    <tr style=\"text-align: right;\">\n",
       "      <th></th>\n",
       "      <th>Employid</th>\n",
       "      <th>Name</th>\n",
       "      <th>AGE</th>\n",
       "      <th>Salary</th>\n",
       "      <th>Performance</th>\n",
       "      <th>Bonus</th>\n",
       "    </tr>\n",
       "  </thead>\n",
       "  <tbody>\n",
       "    <tr>\n",
       "      <th>0</th>\n",
       "      <td>101.0</td>\n",
       "      <td>Ram</td>\n",
       "      <td>10</td>\n",
       "      <td>50000.00</td>\n",
       "      <td>10.4</td>\n",
       "      <td>2500.0</td>\n",
       "    </tr>\n",
       "    <tr>\n",
       "      <th>1</th>\n",
       "      <td>102.0</td>\n",
       "      <td>Sayam</td>\n",
       "      <td>20</td>\n",
       "      <td>24498.78</td>\n",
       "      <td>14.4</td>\n",
       "      <td>4500.0</td>\n",
       "    </tr>\n",
       "    <tr>\n",
       "      <th>2</th>\n",
       "      <td>103.0</td>\n",
       "      <td>Birju</td>\n",
       "      <td>22</td>\n",
       "      <td>-501.22</td>\n",
       "      <td>10.4</td>\n",
       "      <td>2000.0</td>\n",
       "    </tr>\n",
       "    <tr>\n",
       "      <th>3</th>\n",
       "      <td>104.0</td>\n",
       "      <td>Honey</td>\n",
       "      <td>28</td>\n",
       "      <td>-10501.22</td>\n",
       "      <td>10.4</td>\n",
       "      <td>1000.0</td>\n",
       "    </tr>\n",
       "    <tr>\n",
       "      <th>4</th>\n",
       "      <td>NaN</td>\n",
       "      <td>Duggu</td>\n",
       "      <td>30</td>\n",
       "      <td>39498.78</td>\n",
       "      <td>14.4</td>\n",
       "      <td>6000.0</td>\n",
       "    </tr>\n",
       "    <tr>\n",
       "      <th>5</th>\n",
       "      <td>106.0</td>\n",
       "      <td>Shruti</td>\n",
       "      <td>45</td>\n",
       "      <td>49498.78</td>\n",
       "      <td>10.4</td>\n",
       "      <td>7000.0</td>\n",
       "    </tr>\n",
       "    <tr>\n",
       "      <th>6</th>\n",
       "      <td>107.0</td>\n",
       "      <td>Kamlesh</td>\n",
       "      <td>65</td>\n",
       "      <td>29498.78</td>\n",
       "      <td>14.4</td>\n",
       "      <td>5000.0</td>\n",
       "    </tr>\n",
       "    <tr>\n",
       "      <th>7</th>\n",
       "      <td>108.0</td>\n",
       "      <td>Suresh</td>\n",
       "      <td>35</td>\n",
       "      <td>-5501.22</td>\n",
       "      <td>14.4</td>\n",
       "      <td>1500.0</td>\n",
       "    </tr>\n",
       "  </tbody>\n",
       "</table>\n",
       "</div>"
      ],
      "text/plain": [
       "   Employid     Name  AGE    Salary  Performance   Bonus\n",
       "0     101.0      Ram   10  50000.00         10.4  2500.0\n",
       "1     102.0    Sayam   20  24498.78         14.4  4500.0\n",
       "2     103.0    Birju   22   -501.22         10.4  2000.0\n",
       "3     104.0    Honey   28 -10501.22         10.4  1000.0\n",
       "4       NaN    Duggu   30  39498.78         14.4  6000.0\n",
       "5     106.0   Shruti   45  49498.78         10.4  7000.0\n",
       "6     107.0  Kamlesh   65  29498.78         14.4  5000.0\n",
       "7     108.0   Suresh   35  -5501.22         14.4  1500.0"
      ]
     },
     "execution_count": 60,
     "metadata": {},
     "output_type": "execute_result"
    }
   ],
   "source": [
    "df.loc[0,\"Salary\"]=50000\n",
    "# updating at specific location \n",
    "df"
   ]
  },
  {
   "cell_type": "code",
   "execution_count": 57,
   "id": "4f1ea2a9",
   "metadata": {},
   "outputs": [
    {
     "data": {
      "text/html": [
       "<div>\n",
       "<style scoped>\n",
       "    .dataframe tbody tr th:only-of-type {\n",
       "        vertical-align: middle;\n",
       "    }\n",
       "\n",
       "    .dataframe tbody tr th {\n",
       "        vertical-align: top;\n",
       "    }\n",
       "\n",
       "    .dataframe thead th {\n",
       "        text-align: right;\n",
       "    }\n",
       "</style>\n",
       "<table border=\"1\" class=\"dataframe\">\n",
       "  <thead>\n",
       "    <tr style=\"text-align: right;\">\n",
       "      <th></th>\n",
       "      <th>Employid</th>\n",
       "      <th>Name</th>\n",
       "      <th>AGE</th>\n",
       "      <th>Salary</th>\n",
       "      <th>Performance</th>\n",
       "      <th>Bonus</th>\n",
       "    </tr>\n",
       "  </thead>\n",
       "  <tbody>\n",
       "    <tr>\n",
       "      <th>0</th>\n",
       "      <td>101.0</td>\n",
       "      <td>Ram</td>\n",
       "      <td>10</td>\n",
       "      <td>39498.78</td>\n",
       "      <td>10.4</td>\n",
       "      <td>2500.0</td>\n",
       "    </tr>\n",
       "    <tr>\n",
       "      <th>1</th>\n",
       "      <td>102.0</td>\n",
       "      <td>Sayam</td>\n",
       "      <td>20</td>\n",
       "      <td>34498.78</td>\n",
       "      <td>14.4</td>\n",
       "      <td>4500.0</td>\n",
       "    </tr>\n",
       "    <tr>\n",
       "      <th>2</th>\n",
       "      <td>103.0</td>\n",
       "      <td>Birju</td>\n",
       "      <td>22</td>\n",
       "      <td>9498.78</td>\n",
       "      <td>10.4</td>\n",
       "      <td>2000.0</td>\n",
       "    </tr>\n",
       "    <tr>\n",
       "      <th>3</th>\n",
       "      <td>104.0</td>\n",
       "      <td>Honey</td>\n",
       "      <td>28</td>\n",
       "      <td>-501.22</td>\n",
       "      <td>10.4</td>\n",
       "      <td>1000.0</td>\n",
       "    </tr>\n",
       "    <tr>\n",
       "      <th>4</th>\n",
       "      <td>NaN</td>\n",
       "      <td>Duggu</td>\n",
       "      <td>30</td>\n",
       "      <td>49498.78</td>\n",
       "      <td>14.4</td>\n",
       "      <td>6000.0</td>\n",
       "    </tr>\n",
       "    <tr>\n",
       "      <th>5</th>\n",
       "      <td>106.0</td>\n",
       "      <td>Shruti</td>\n",
       "      <td>45</td>\n",
       "      <td>59498.78</td>\n",
       "      <td>10.4</td>\n",
       "      <td>7000.0</td>\n",
       "    </tr>\n",
       "    <tr>\n",
       "      <th>6</th>\n",
       "      <td>107.0</td>\n",
       "      <td>Kamlesh</td>\n",
       "      <td>65</td>\n",
       "      <td>39498.78</td>\n",
       "      <td>14.4</td>\n",
       "      <td>5000.0</td>\n",
       "    </tr>\n",
       "    <tr>\n",
       "      <th>7</th>\n",
       "      <td>108.0</td>\n",
       "      <td>Suresh</td>\n",
       "      <td>35</td>\n",
       "      <td>4498.78</td>\n",
       "      <td>14.4</td>\n",
       "      <td>1500.0</td>\n",
       "    </tr>\n",
       "  </tbody>\n",
       "</table>\n",
       "</div>"
      ],
      "text/plain": [
       "   Employid     Name  AGE    Salary  Performance   Bonus\n",
       "0     101.0      Ram   10  39498.78         10.4  2500.0\n",
       "1     102.0    Sayam   20  34498.78         14.4  4500.0\n",
       "2     103.0    Birju   22   9498.78         10.4  2000.0\n",
       "3     104.0    Honey   28   -501.22         10.4  1000.0\n",
       "4       NaN    Duggu   30  49498.78         14.4  6000.0\n",
       "5     106.0   Shruti   45  59498.78         10.4  7000.0\n",
       "6     107.0  Kamlesh   65  39498.78         14.4  5000.0\n",
       "7     108.0   Suresh   35   4498.78         14.4  1500.0"
      ]
     },
     "execution_count": 58,
     "metadata": {},
     "output_type": "execute_result"
    }
   ],
   "source": [
    "df[\"Salary\"]=df[\"Salary\"]-10000\n",
    "df"
   ]
  },
  {
   "cell_type": "markdown",
   "id": "653d2e9a",
   "metadata": {},
   "source": [
    "### Removing a column"
   ]
  },
  {
   "cell_type": "code",
   "execution_count": null,
   "id": "9c57cca9",
   "metadata": {},
   "outputs": [
    {
     "name": "stdout",
     "output_type": "stream",
     "text": [
      "   Employid     Name  AGE   Bonus\n",
      "0     101.0      Ram   10  2500.0\n",
      "1     102.0    Sayam   20  4500.0\n",
      "2     103.0    Birju   22  2000.0\n",
      "3     104.0    Honey   28  1000.0\n",
      "4       NaN    Duggu   30  6000.0\n",
      "5     106.0   Shruti   45  7000.0\n",
      "6     107.0  Kamlesh   65  5000.0\n",
      "7     108.0   Suresh   35  1500.0\n"
     ]
    }
   ],
   "source": [
    "df.drop(columns=['Performace','Salary'],inplace=True)\n",
    "print(df)"
   ]
  },
  {
   "cell_type": "markdown",
   "id": "4dc288fd",
   "metadata": {},
   "source": [
    "### Dealing with th emissing Values"
   ]
  },
  {
   "cell_type": "code",
   "execution_count": 71,
   "id": "e7ca8b1f",
   "metadata": {},
   "outputs": [
    {
     "data": {
      "text/html": [
       "<div>\n",
       "<style scoped>\n",
       "    .dataframe tbody tr th:only-of-type {\n",
       "        vertical-align: middle;\n",
       "    }\n",
       "\n",
       "    .dataframe tbody tr th {\n",
       "        vertical-align: top;\n",
       "    }\n",
       "\n",
       "    .dataframe thead th {\n",
       "        text-align: right;\n",
       "    }\n",
       "</style>\n",
       "<table border=\"1\" class=\"dataframe\">\n",
       "  <thead>\n",
       "    <tr style=\"text-align: right;\">\n",
       "      <th></th>\n",
       "      <th>Employid</th>\n",
       "      <th>Name</th>\n",
       "      <th>AGE</th>\n",
       "      <th>Bonus</th>\n",
       "    </tr>\n",
       "  </thead>\n",
       "  <tbody>\n",
       "    <tr>\n",
       "      <th>0</th>\n",
       "      <td>False</td>\n",
       "      <td>False</td>\n",
       "      <td>False</td>\n",
       "      <td>False</td>\n",
       "    </tr>\n",
       "    <tr>\n",
       "      <th>1</th>\n",
       "      <td>False</td>\n",
       "      <td>False</td>\n",
       "      <td>False</td>\n",
       "      <td>False</td>\n",
       "    </tr>\n",
       "    <tr>\n",
       "      <th>2</th>\n",
       "      <td>False</td>\n",
       "      <td>False</td>\n",
       "      <td>False</td>\n",
       "      <td>False</td>\n",
       "    </tr>\n",
       "    <tr>\n",
       "      <th>3</th>\n",
       "      <td>False</td>\n",
       "      <td>False</td>\n",
       "      <td>False</td>\n",
       "      <td>False</td>\n",
       "    </tr>\n",
       "    <tr>\n",
       "      <th>4</th>\n",
       "      <td>True</td>\n",
       "      <td>False</td>\n",
       "      <td>False</td>\n",
       "      <td>False</td>\n",
       "    </tr>\n",
       "    <tr>\n",
       "      <th>5</th>\n",
       "      <td>False</td>\n",
       "      <td>False</td>\n",
       "      <td>False</td>\n",
       "      <td>False</td>\n",
       "    </tr>\n",
       "    <tr>\n",
       "      <th>6</th>\n",
       "      <td>False</td>\n",
       "      <td>False</td>\n",
       "      <td>False</td>\n",
       "      <td>False</td>\n",
       "    </tr>\n",
       "    <tr>\n",
       "      <th>7</th>\n",
       "      <td>False</td>\n",
       "      <td>False</td>\n",
       "      <td>False</td>\n",
       "      <td>False</td>\n",
       "    </tr>\n",
       "  </tbody>\n",
       "</table>\n",
       "</div>"
      ],
      "text/plain": [
       "   Employid   Name    AGE  Bonus\n",
       "0     False  False  False  False\n",
       "1     False  False  False  False\n",
       "2     False  False  False  False\n",
       "3     False  False  False  False\n",
       "4      True  False  False  False\n",
       "5     False  False  False  False\n",
       "6     False  False  False  False\n",
       "7     False  False  False  False"
      ]
     },
     "execution_count": 71,
     "metadata": {},
     "output_type": "execute_result"
    }
   ],
   "source": [
    "df.isnull()"
   ]
  },
  {
   "cell_type": "code",
   "execution_count": 72,
   "id": "526b01f7",
   "metadata": {},
   "outputs": [
    {
     "data": {
      "text/plain": [
       "Employid    1\n",
       "Name        0\n",
       "AGE         0\n",
       "Bonus       0\n",
       "dtype: int64"
      ]
     },
     "execution_count": 72,
     "metadata": {},
     "output_type": "execute_result"
    }
   ],
   "source": [
    "df.isnull().sum()"
   ]
  },
  {
   "cell_type": "code",
   "execution_count": 76,
   "id": "751c2a0f",
   "metadata": {},
   "outputs": [
    {
     "data": {
      "text/html": [
       "<div>\n",
       "<style scoped>\n",
       "    .dataframe tbody tr th:only-of-type {\n",
       "        vertical-align: middle;\n",
       "    }\n",
       "\n",
       "    .dataframe tbody tr th {\n",
       "        vertical-align: top;\n",
       "    }\n",
       "\n",
       "    .dataframe thead th {\n",
       "        text-align: right;\n",
       "    }\n",
       "</style>\n",
       "<table border=\"1\" class=\"dataframe\">\n",
       "  <thead>\n",
       "    <tr style=\"text-align: right;\">\n",
       "      <th></th>\n",
       "      <th>Employid</th>\n",
       "      <th>Name</th>\n",
       "      <th>AGE</th>\n",
       "      <th>Bonus</th>\n",
       "    </tr>\n",
       "  </thead>\n",
       "  <tbody>\n",
       "    <tr>\n",
       "      <th>0</th>\n",
       "      <td>101.0</td>\n",
       "      <td>Ram</td>\n",
       "      <td>10</td>\n",
       "      <td>2500.0</td>\n",
       "    </tr>\n",
       "    <tr>\n",
       "      <th>1</th>\n",
       "      <td>102.0</td>\n",
       "      <td>Sayam</td>\n",
       "      <td>20</td>\n",
       "      <td>4500.0</td>\n",
       "    </tr>\n",
       "    <tr>\n",
       "      <th>2</th>\n",
       "      <td>103.0</td>\n",
       "      <td>Birju</td>\n",
       "      <td>22</td>\n",
       "      <td>2000.0</td>\n",
       "    </tr>\n",
       "    <tr>\n",
       "      <th>3</th>\n",
       "      <td>104.0</td>\n",
       "      <td>Honey</td>\n",
       "      <td>28</td>\n",
       "      <td>1000.0</td>\n",
       "    </tr>\n",
       "    <tr>\n",
       "      <th>4</th>\n",
       "      <td>0.0</td>\n",
       "      <td>Duggu</td>\n",
       "      <td>30</td>\n",
       "      <td>6000.0</td>\n",
       "    </tr>\n",
       "    <tr>\n",
       "      <th>5</th>\n",
       "      <td>106.0</td>\n",
       "      <td>Shruti</td>\n",
       "      <td>45</td>\n",
       "      <td>7000.0</td>\n",
       "    </tr>\n",
       "    <tr>\n",
       "      <th>6</th>\n",
       "      <td>107.0</td>\n",
       "      <td>Kamlesh</td>\n",
       "      <td>65</td>\n",
       "      <td>5000.0</td>\n",
       "    </tr>\n",
       "    <tr>\n",
       "      <th>7</th>\n",
       "      <td>108.0</td>\n",
       "      <td>Suresh</td>\n",
       "      <td>35</td>\n",
       "      <td>1500.0</td>\n",
       "    </tr>\n",
       "  </tbody>\n",
       "</table>\n",
       "</div>"
      ],
      "text/plain": [
       "   Employid     Name  AGE   Bonus\n",
       "0     101.0      Ram   10  2500.0\n",
       "1     102.0    Sayam   20  4500.0\n",
       "2     103.0    Birju   22  2000.0\n",
       "3     104.0    Honey   28  1000.0\n",
       "4       0.0    Duggu   30  6000.0\n",
       "5     106.0   Shruti   45  7000.0\n",
       "6     107.0  Kamlesh   65  5000.0\n",
       "7     108.0   Suresh   35  1500.0"
      ]
     },
     "execution_count": 76,
     "metadata": {},
     "output_type": "execute_result"
    }
   ],
   "source": [
    "df.fillna(0,inplace=True)\n",
    "\n",
    "\n",
    "#df.[\"Employid\"].fillna(df[xyz].mean(),inplace=True)\n",
    "#df.[\"Salary\"].fillna(df[\"Salary\"].mean(),inplace=True)\n",
    "\n",
    "df"
   ]
  },
  {
   "cell_type": "markdown",
   "id": "b2ed091c",
   "metadata": {},
   "source": [
    "### Interpolation "
   ]
  },
  {
   "cell_type": "markdown",
   "id": "c4a8de2a",
   "metadata": {},
   "source": [
    "#### (Replaces missing values by studying the trends od that data)"
   ]
  },
  {
   "cell_type": "code",
   "execution_count": 77,
   "id": "93064c89",
   "metadata": {},
   "outputs": [
    {
     "name": "stderr",
     "output_type": "stream",
     "text": [
      "C:\\Users\\surya\\AppData\\Local\\Temp\\ipykernel_19412\\241462238.py:1: FutureWarning: DataFrame.interpolate with object dtype is deprecated and will raise in a future version. Call obj.infer_objects(copy=False) before interpolating instead.\n",
      "  df.interpolate(method=\"linear\",axis=0,inplace=True)\n"
     ]
    }
   ],
   "source": [
    "df.interpolate(method=\"linear\",axis=0,inplace=True)"
   ]
  },
  {
   "cell_type": "markdown",
   "id": "9c9b04c8",
   "metadata": {},
   "source": [
    "### Sorting the data inside dataset"
   ]
  },
  {
   "cell_type": "code",
   "execution_count": 78,
   "id": "0f05e0bc",
   "metadata": {},
   "outputs": [
    {
     "data": {
      "text/html": [
       "<div>\n",
       "<style scoped>\n",
       "    .dataframe tbody tr th:only-of-type {\n",
       "        vertical-align: middle;\n",
       "    }\n",
       "\n",
       "    .dataframe tbody tr th {\n",
       "        vertical-align: top;\n",
       "    }\n",
       "\n",
       "    .dataframe thead th {\n",
       "        text-align: right;\n",
       "    }\n",
       "</style>\n",
       "<table border=\"1\" class=\"dataframe\">\n",
       "  <thead>\n",
       "    <tr style=\"text-align: right;\">\n",
       "      <th></th>\n",
       "      <th>Name</th>\n",
       "      <th>Age</th>\n",
       "      <th>Salary</th>\n",
       "    </tr>\n",
       "  </thead>\n",
       "  <tbody>\n",
       "    <tr>\n",
       "      <th>2</th>\n",
       "      <td>Palak</td>\n",
       "      <td>62</td>\n",
       "      <td>30000</td>\n",
       "    </tr>\n",
       "    <tr>\n",
       "      <th>1</th>\n",
       "      <td>Kamlesh</td>\n",
       "      <td>23</td>\n",
       "      <td>15000</td>\n",
       "    </tr>\n",
       "    <tr>\n",
       "      <th>0</th>\n",
       "      <td>Punit</td>\n",
       "      <td>10</td>\n",
       "      <td>20000</td>\n",
       "    </tr>\n",
       "  </tbody>\n",
       "</table>\n",
       "</div>"
      ],
      "text/plain": [
       "      Name  Age  Salary\n",
       "2    Palak   62   30000\n",
       "1  Kamlesh   23   15000\n",
       "0    Punit   10   20000"
      ]
     },
     "execution_count": 78,
     "metadata": {},
     "output_type": "execute_result"
    }
   ],
   "source": [
    "import pandas as pd \n",
    "\n",
    "data={\"Name\":[\"Punit\",\"Kamlesh\",\"Palak\"],\n",
    "      \"Age\":[10,23,62],\n",
    "      \"Salary\":[20000,15000,30000]}\n",
    "\n",
    "df=pd.DataFrame(data)\n",
    "\n",
    "df.sort_values(by=\"Age\",ascending=False,inplace=True)\n",
    "df"
   ]
  },
  {
   "cell_type": "code",
   "execution_count": 82,
   "id": "309da4e9",
   "metadata": {},
   "outputs": [
    {
     "data": {
      "text/html": [
       "<div>\n",
       "<style scoped>\n",
       "    .dataframe tbody tr th:only-of-type {\n",
       "        vertical-align: middle;\n",
       "    }\n",
       "\n",
       "    .dataframe tbody tr th {\n",
       "        vertical-align: top;\n",
       "    }\n",
       "\n",
       "    .dataframe thead th {\n",
       "        text-align: right;\n",
       "    }\n",
       "</style>\n",
       "<table border=\"1\" class=\"dataframe\">\n",
       "  <thead>\n",
       "    <tr style=\"text-align: right;\">\n",
       "      <th></th>\n",
       "      <th>Name</th>\n",
       "      <th>Age</th>\n",
       "      <th>Salary</th>\n",
       "    </tr>\n",
       "  </thead>\n",
       "  <tbody>\n",
       "    <tr>\n",
       "      <th>0</th>\n",
       "      <td>Punit</td>\n",
       "      <td>10</td>\n",
       "      <td>20000</td>\n",
       "    </tr>\n",
       "    <tr>\n",
       "      <th>1</th>\n",
       "      <td>Kamlesh</td>\n",
       "      <td>23</td>\n",
       "      <td>15000</td>\n",
       "    </tr>\n",
       "    <tr>\n",
       "      <th>2</th>\n",
       "      <td>Palak</td>\n",
       "      <td>62</td>\n",
       "      <td>30000</td>\n",
       "    </tr>\n",
       "  </tbody>\n",
       "</table>\n",
       "</div>"
      ],
      "text/plain": [
       "      Name  Age  Salary\n",
       "0    Punit   10   20000\n",
       "1  Kamlesh   23   15000\n",
       "2    Palak   62   30000"
      ]
     },
     "execution_count": 82,
     "metadata": {},
     "output_type": "execute_result"
    }
   ],
   "source": [
    "df.sort_values(by=[\"Age\",\"Salary\"],ascending=[True,False],inplace=True)\n",
    "df"
   ]
  },
  {
   "cell_type": "markdown",
   "id": "8c081cc2",
   "metadata": {},
   "source": [
    "### Aggregation ."
   ]
  },
  {
   "cell_type": "code",
   "execution_count": null,
   "id": "4dbec78c",
   "metadata": {},
   "outputs": [],
   "source": [
    "df['column name'].mean()\n",
    "df['column name'].sum()\n",
    "df['column name'].min()\n",
    "df['column name'].max()\n",
    "df['column name'].count()"
   ]
  },
  {
   "cell_type": "markdown",
   "id": "6556f8c7",
   "metadata": {},
   "source": [
    "### Grouping "
   ]
  },
  {
   "cell_type": "code",
   "execution_count": 85,
   "id": "388982a3",
   "metadata": {},
   "outputs": [
    {
     "data": {
      "text/plain": [
       "Age\n",
       "10    20000\n",
       "23    15000\n",
       "62    30000\n",
       "Name: Salary, dtype: int64"
      ]
     },
     "execution_count": 85,
     "metadata": {},
     "output_type": "execute_result"
    }
   ],
   "source": [
    "df.groupby('Age')['Salary'].sum()"
   ]
  },
  {
   "cell_type": "markdown",
   "id": "8152ba2b",
   "metadata": {},
   "source": [
    "### Merging :\n"
   ]
  },
  {
   "cell_type": "markdown",
   "id": "960899fd",
   "metadata": {},
   "source": [
    "##### inner join - only matching values \n",
    "##### outer join - combines all and fill nan at unmatched \n",
    "##### left join - full data from left and only matching values of right rest Nan \n",
    "##### right join - full data from right nad only matcing value of lest rest Nan\n",
    "##### cross join - m x n full dataset\n"
   ]
  },
  {
   "cell_type": "code",
   "execution_count": 91,
   "id": "16d02131",
   "metadata": {},
   "outputs": [
    {
     "name": "stdout",
     "output_type": "stream",
     "text": [
      "   custid    name  status\n",
      "0      20    Ravi     not\n",
      "1      30  Summit  placed\n"
     ]
    }
   ],
   "source": [
    "# syntax \n",
    "# pd.merge(df1,df2 ,on='column name',how=\"inner/outer etc\")\n",
    "\n",
    "import pandas as pd \n",
    "\n",
    "cust={\"custid\":[10,20,30],\n",
    "      \"name\":[\"Harry\",\"Ravi\",\"Summit\"]}\n",
    "df1=pd.DataFrame(cust)\n",
    "\n",
    "\n",
    "\n",
    "order={\"custid\":[15,20,30],\n",
    "       \"status\":[\"placed\",\"not\",\"placed\"]}\n",
    "df2=pd.DataFrame(order)\n",
    "\n",
    "\n",
    "merge=pd.merge(df1,df2,on=\"custid\",how=\"inner\")\n",
    "print(merge)"
   ]
  },
  {
   "cell_type": "code",
   "execution_count": 92,
   "id": "c9c05b52",
   "metadata": {},
   "outputs": [
    {
     "name": "stdout",
     "output_type": "stream",
     "text": [
      "   custid    name  status\n",
      "0      10   Harry     NaN\n",
      "1      15     NaN  placed\n",
      "2      20    Ravi     not\n",
      "3      30  Summit  placed\n"
     ]
    }
   ],
   "source": [
    "\n",
    "merge=pd.merge(df1,df2,on=\"custid\",how=\"outer\")\n",
    "print(merge)"
   ]
  },
  {
   "cell_type": "code",
   "execution_count": 93,
   "id": "0dd3eb30",
   "metadata": {},
   "outputs": [
    {
     "name": "stdout",
     "output_type": "stream",
     "text": [
      "   custid    name  status\n",
      "0      10   Harry     NaN\n",
      "1      20    Ravi     not\n",
      "2      30  Summit  placed\n"
     ]
    }
   ],
   "source": [
    "merge=pd.merge(df1,df2,on=\"custid\",how=\"left\")\n",
    "print(merge)"
   ]
  },
  {
   "cell_type": "code",
   "execution_count": 94,
   "id": "cf6ce2a3",
   "metadata": {},
   "outputs": [
    {
     "name": "stdout",
     "output_type": "stream",
     "text": [
      "   custid    name  status\n",
      "0      15     NaN  placed\n",
      "1      20    Ravi     not\n",
      "2      30  Summit  placed\n"
     ]
    }
   ],
   "source": [
    "merge=pd.merge(df1,df2,on=\"custid\",how=\"right\")\n",
    "print(merge)"
   ]
  },
  {
   "cell_type": "code",
   "execution_count": null,
   "id": "391340f7",
   "metadata": {},
   "outputs": [],
   "source": []
  }
 ],
 "metadata": {
  "kernelspec": {
   "display_name": "Python 3",
   "language": "python",
   "name": "python3"
  },
  "language_info": {
   "codemirror_mode": {
    "name": "ipython",
    "version": 3
   },
   "file_extension": ".py",
   "mimetype": "text/x-python",
   "name": "python",
   "nbconvert_exporter": "python",
   "pygments_lexer": "ipython3",
   "version": "3.13.5"
  }
 },
 "nbformat": 4,
 "nbformat_minor": 5
}
